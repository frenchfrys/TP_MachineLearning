{
 "cells": [
  {
   "cell_type": "code",
   "execution_count": 1,
   "metadata": {},
   "outputs": [],
   "source": [
    "import sys, time, os, random\n",
    "\n",
    "from sklearn.datasets import fetch_openml\n",
    "mnist = fetch_openml('mnist_784')\n",
    "\n",
    "from sklearn.datasets import fetch_mldata\n",
    "#mnist = fetch_mldata('MNIST original')\n",
    "\n",
    "from sklearn import datasets, neighbors\n",
    "from sklearn.model_selection import train_test_split\n",
    "from sklearn.neural_network import MLPClassifier\n",
    "from sklearn.metrics import precision_score, zero_one_loss\n",
    "import matplotlib.pyplot as plt\n",
    "#mnist = datasets.fetch_mldata('MNIST original')\n",
    "\n",
    "from time import time\n",
    "\n",
    "import numpy as np"
   ]
  },
  {
   "cell_type": "code",
   "execution_count": 123,
   "metadata": {},
   "outputs": [],
   "source": [
    "# define neural network model in order to train it\n",
    "\n",
    "layer_number = []\n",
    "for i in range(10):\n",
    "    layer_number.append(50)\n",
    "\n",
    "classifier = MLPClassifier(hidden_layer_sizes=layer_number, \n",
    "                           activation='relu', \n",
    "                           solver='adam', \n",
    "                           alpha=0.01, \n",
    "                           batch_size='auto',\n",
    "                           learning_rate='constant', \n",
    "                           learning_rate_init=0.001, \n",
    "                           power_t=0.5, \n",
    "                           max_iter=200, \n",
    "                           shuffle=True, \n",
    "                           random_state=None, \n",
    "                           tol=0.0001,\n",
    "                           verbose=False, \n",
    "                           warm_start=False, \n",
    "                           momentum=0.9, \n",
    "                           nesterovs_momentum=True, \n",
    "                           early_stopping=False, \n",
    "                           validation_fraction=0.1, \n",
    "                           beta_1=0.9, \n",
    "                           beta_2=0.999, \n",
    "                           epsilon=1e-08, \n",
    "                           n_iter_no_change=10)"
   ]
  },
  {
   "cell_type": "code",
   "execution_count": 124,
   "metadata": {},
   "outputs": [],
   "source": [
    "xtrain, xtest, ytrain, ytest = train_test_split(mnist.data, mnist.target, train_size=0.7)"
   ]
  },
  {
   "cell_type": "code",
   "execution_count": 125,
   "metadata": {},
   "outputs": [
    {
     "name": "stdout",
     "output_type": "stream",
     "text": [
      "model has been trained !, training duration : 99.32671904563904\n"
     ]
    }
   ],
   "source": [
    "# train model\n",
    "\n",
    "debut = time()\n",
    "classifier.fit(xtrain, ytrain)\n",
    "fin = time()\n",
    "print(\"model has been trained !, training duration : {}\".format(fin-debut))"
   ]
  },
  {
   "cell_type": "code",
   "execution_count": 127,
   "metadata": {},
   "outputs": [
    {
     "name": "stdout",
     "output_type": "stream",
     "text": [
      "Model has been tested !\n",
      "test result = 0.972047619047619\n"
     ]
    }
   ],
   "source": [
    "# test model and print precision: \n",
    "print (\"Model has been tested !\\ntest result = {}\".format(classifier.score(xtest, ytest)))"
   ]
  },
  {
   "cell_type": "code",
   "execution_count": 128,
   "metadata": {},
   "outputs": [
    {
     "name": "stdout",
     "output_type": "stream",
     "text": [
      "Target for image 4 : 2\n",
      "Classification result : 2\n"
     ]
    }
   ],
   "source": [
    "# show image 4 result (classification + prediction )\n",
    "prediction = classifier.predict(xtest)\n",
    "print (\"Target for image 4 : {}\\nClassification result : {}\".format(ytest[3], prediction[3]))"
   ]
  },
  {
   "cell_type": "code",
   "execution_count": 129,
   "metadata": {},
   "outputs": [
    {
     "name": "stdout",
     "output_type": "stream",
     "text": [
      "Prediction score : 0.972047619047619\n"
     ]
    }
   ],
   "source": [
    "# show precision score using precision_score from metrics \n",
    "pred_score = precision_score(ytest, prediction, average='micro')\n",
    "print (\"Prediction score : {}\".format(pred_score))"
   ]
  },
  {
   "cell_type": "code",
   "execution_count": 130,
   "metadata": {},
   "outputs": [
    {
     "name": "stdout",
     "output_type": "stream",
     "text": [
      "zero one loss score : 0.02795238095238095\n"
     ]
    }
   ],
   "source": [
    "# show zero one loss score\n",
    "zero_score = zero_one_loss(ytest, prediction)\n",
    "print (\"zero one loss score : {}\".format(zero_score))"
   ]
  },
  {
   "cell_type": "code",
   "execution_count": null,
   "metadata": {},
   "outputs": [],
   "source": []
  },
  {
   "cell_type": "code",
   "execution_count": null,
   "metadata": {},
   "outputs": [],
   "source": []
  }
 ],
 "metadata": {
  "kernelspec": {
   "display_name": "Python 3",
   "language": "python",
   "name": "python3"
  },
  "language_info": {
   "codemirror_mode": {
    "name": "ipython",
    "version": 3
   },
   "file_extension": ".py",
   "mimetype": "text/x-python",
   "name": "python",
   "nbconvert_exporter": "python",
   "pygments_lexer": "ipython3",
   "version": "3.7.3"
  },
  "latex_envs": {
   "LaTeX_envs_menu_present": true,
   "autoclose": false,
   "autocomplete": true,
   "bibliofile": "biblio.bib",
   "cite_by": "apalike",
   "current_citInitial": 1,
   "eqLabelWithNumbers": true,
   "eqNumInitial": 1,
   "hotkeys": {
    "equation": "Ctrl-E",
    "itemize": "Ctrl-I"
   },
   "labels_anchors": false,
   "latex_user_defs": false,
   "report_style_numbering": false,
   "user_envs_cfg": false
  }
 },
 "nbformat": 4,
 "nbformat_minor": 2
}
